{
 "cells": [
  {
   "cell_type": "markdown",
   "metadata": {
    "slideshow": {
     "slide_type": "slide"
    }
   },
   "source": [
    "# Airline Delays and Root Causes 2004-2008\n",
    "## by Alexander Coffin"
   ]
  },
  {
   "cell_type": "markdown",
   "metadata": {
    "slideshow": {
     "slide_type": "slide"
    }
   },
   "source": [
    "## Investigation Overview\n",
    "\n",
    "Too often travellers head to the airport crossing their fingers that their plane will be on time, the flight will be smooth and they will get to their end destination on time.  The worst case scenario as you head to the airport to wait 2 hours for you flight is to get hit by a cancellation!  We are going to dive into some historical flight informaiton to understand how often are flights cancellend, what are the root causes and which carries are the least reliable in getting planes off the ground.\n",
    "\n",
    "## Dataset Overview\n",
    "\n",
    "The Two Datasets leveraged below contain inforamtion on both the general sampled dataset of all flights from 2004 to 2008 and a condensed dataset from the cancelled flights in the dataset to narrow in on causes and culprits."
   ]
  },
  {
   "cell_type": "code",
   "execution_count": 1,
   "metadata": {
    "slideshow": {
     "slide_type": "skip"
    }
   },
   "outputs": [],
   "source": [
    "# import all packages and set plots to be embedded inline\n",
    "import numpy as np\n",
    "import pandas as pd\n",
    "import matplotlib.pyplot as plt\n",
    "import seaborn as sb\n",
    "\n",
    "%matplotlib inline\n",
    "\n",
    "# suppress warnings from final output\n",
    "import warnings\n",
    "warnings.simplefilter(\"ignore\")"
   ]
  },
  {
   "cell_type": "code",
   "execution_count": 2,
   "metadata": {
    "slideshow": {
     "slide_type": "skip"
    }
   },
   "outputs": [
    {
     "data": {
      "text/html": [
       "<div>\n",
       "<style scoped>\n",
       "    .dataframe tbody tr th:only-of-type {\n",
       "        vertical-align: middle;\n",
       "    }\n",
       "\n",
       "    .dataframe tbody tr th {\n",
       "        vertical-align: top;\n",
       "    }\n",
       "\n",
       "    .dataframe thead th {\n",
       "        text-align: right;\n",
       "    }\n",
       "</style>\n",
       "<table border=\"1\" class=\"dataframe\">\n",
       "  <thead>\n",
       "    <tr style=\"text-align: right;\">\n",
       "      <th></th>\n",
       "      <th>Year</th>\n",
       "      <th>Month</th>\n",
       "      <th>DayofMonth</th>\n",
       "      <th>DayOfWeek</th>\n",
       "      <th>CRSDepTime</th>\n",
       "      <th>CRSArrTime</th>\n",
       "      <th>UniqueCarrier</th>\n",
       "      <th>FlightNum</th>\n",
       "      <th>TailNum</th>\n",
       "      <th>CRSElapsedTime</th>\n",
       "      <th>...</th>\n",
       "      <th>TaxiIn</th>\n",
       "      <th>TaxiOut</th>\n",
       "      <th>Cancelled</th>\n",
       "      <th>CancellationCode</th>\n",
       "      <th>Diverted</th>\n",
       "      <th>CarrierDelay</th>\n",
       "      <th>WeatherDelay</th>\n",
       "      <th>NASDelay</th>\n",
       "      <th>SecurityDelay</th>\n",
       "      <th>LateAircraftDelay</th>\n",
       "    </tr>\n",
       "  </thead>\n",
       "  <tbody>\n",
       "    <tr>\n",
       "      <th>0</th>\n",
       "      <td>2004</td>\n",
       "      <td>1</td>\n",
       "      <td>26</td>\n",
       "      <td>1</td>\n",
       "      <td>630</td>\n",
       "      <td>915</td>\n",
       "      <td>UA</td>\n",
       "      <td>462</td>\n",
       "      <td>000000</td>\n",
       "      <td>105.0</td>\n",
       "      <td>...</td>\n",
       "      <td>0.0</td>\n",
       "      <td>0.0</td>\n",
       "      <td>1</td>\n",
       "      <td>Weather</td>\n",
       "      <td>0</td>\n",
       "      <td>0.0</td>\n",
       "      <td>0.0</td>\n",
       "      <td>0.0</td>\n",
       "      <td>0.0</td>\n",
       "      <td>0.0</td>\n",
       "    </tr>\n",
       "    <tr>\n",
       "      <th>1</th>\n",
       "      <td>2004</td>\n",
       "      <td>1</td>\n",
       "      <td>4</td>\n",
       "      <td>7</td>\n",
       "      <td>1505</td>\n",
       "      <td>1725</td>\n",
       "      <td>UA</td>\n",
       "      <td>463</td>\n",
       "      <td>000000</td>\n",
       "      <td>260.0</td>\n",
       "      <td>...</td>\n",
       "      <td>0.0</td>\n",
       "      <td>0.0</td>\n",
       "      <td>1</td>\n",
       "      <td>NAS</td>\n",
       "      <td>0</td>\n",
       "      <td>0.0</td>\n",
       "      <td>0.0</td>\n",
       "      <td>0.0</td>\n",
       "      <td>0.0</td>\n",
       "      <td>0.0</td>\n",
       "    </tr>\n",
       "    <tr>\n",
       "      <th>2</th>\n",
       "      <td>2004</td>\n",
       "      <td>1</td>\n",
       "      <td>6</td>\n",
       "      <td>2</td>\n",
       "      <td>1505</td>\n",
       "      <td>1725</td>\n",
       "      <td>UA</td>\n",
       "      <td>463</td>\n",
       "      <td>000000</td>\n",
       "      <td>260.0</td>\n",
       "      <td>...</td>\n",
       "      <td>0.0</td>\n",
       "      <td>0.0</td>\n",
       "      <td>1</td>\n",
       "      <td>Weather</td>\n",
       "      <td>0</td>\n",
       "      <td>0.0</td>\n",
       "      <td>0.0</td>\n",
       "      <td>0.0</td>\n",
       "      <td>0.0</td>\n",
       "      <td>0.0</td>\n",
       "    </tr>\n",
       "    <tr>\n",
       "      <th>3</th>\n",
       "      <td>2004</td>\n",
       "      <td>1</td>\n",
       "      <td>7</td>\n",
       "      <td>3</td>\n",
       "      <td>1510</td>\n",
       "      <td>1732</td>\n",
       "      <td>UA</td>\n",
       "      <td>463</td>\n",
       "      <td>000000</td>\n",
       "      <td>262.0</td>\n",
       "      <td>...</td>\n",
       "      <td>0.0</td>\n",
       "      <td>0.0</td>\n",
       "      <td>1</td>\n",
       "      <td>NAS</td>\n",
       "      <td>0</td>\n",
       "      <td>0.0</td>\n",
       "      <td>0.0</td>\n",
       "      <td>0.0</td>\n",
       "      <td>0.0</td>\n",
       "      <td>0.0</td>\n",
       "    </tr>\n",
       "    <tr>\n",
       "      <th>4</th>\n",
       "      <td>2004</td>\n",
       "      <td>1</td>\n",
       "      <td>8</td>\n",
       "      <td>4</td>\n",
       "      <td>1510</td>\n",
       "      <td>1732</td>\n",
       "      <td>UA</td>\n",
       "      <td>463</td>\n",
       "      <td>000000</td>\n",
       "      <td>262.0</td>\n",
       "      <td>...</td>\n",
       "      <td>0.0</td>\n",
       "      <td>0.0</td>\n",
       "      <td>1</td>\n",
       "      <td>Weather</td>\n",
       "      <td>0</td>\n",
       "      <td>0.0</td>\n",
       "      <td>0.0</td>\n",
       "      <td>0.0</td>\n",
       "      <td>0.0</td>\n",
       "      <td>0.0</td>\n",
       "    </tr>\n",
       "  </tbody>\n",
       "</table>\n",
       "<p>5 rows × 23 columns</p>\n",
       "</div>"
      ],
      "text/plain": [
       "   Year  Month  DayofMonth  DayOfWeek  CRSDepTime  CRSArrTime UniqueCarrier  \\\n",
       "0  2004      1          26          1         630         915            UA   \n",
       "1  2004      1           4          7        1505        1725            UA   \n",
       "2  2004      1           6          2        1505        1725            UA   \n",
       "3  2004      1           7          3        1510        1732            UA   \n",
       "4  2004      1           8          4        1510        1732            UA   \n",
       "\n",
       "   FlightNum TailNum  CRSElapsedTime        ...         TaxiIn TaxiOut  \\\n",
       "0        462  000000           105.0        ...            0.0     0.0   \n",
       "1        463  000000           260.0        ...            0.0     0.0   \n",
       "2        463  000000           260.0        ...            0.0     0.0   \n",
       "3        463  000000           262.0        ...            0.0     0.0   \n",
       "4        463  000000           262.0        ...            0.0     0.0   \n",
       "\n",
       "   Cancelled  CancellationCode  Diverted  CarrierDelay WeatherDelay  NASDelay  \\\n",
       "0          1           Weather         0           0.0          0.0       0.0   \n",
       "1          1               NAS         0           0.0          0.0       0.0   \n",
       "2          1           Weather         0           0.0          0.0       0.0   \n",
       "3          1               NAS         0           0.0          0.0       0.0   \n",
       "4          1           Weather         0           0.0          0.0       0.0   \n",
       "\n",
       "   SecurityDelay  LateAircraftDelay  \n",
       "0            0.0                0.0  \n",
       "1            0.0                0.0  \n",
       "2            0.0                0.0  \n",
       "3            0.0                0.0  \n",
       "4            0.0                0.0  \n",
       "\n",
       "[5 rows x 23 columns]"
      ]
     },
     "execution_count": 2,
     "metadata": {},
     "output_type": "execute_result"
    }
   ],
   "source": [
    "# load in the dataset into a pandas dataframe\n",
    "df = pd.read_csv('Flight_data.csv', sep='\\t')\n",
    "df_c = pd.read_csv('Cancelled-Record.csv', sep='\\t')\n",
    "df_c.head()"
   ]
  },
  {
   "cell_type": "code",
   "execution_count": 3,
   "metadata": {
    "slideshow": {
     "slide_type": "skip"
    }
   },
   "outputs": [
    {
     "data": {
      "text/html": [
       "<div>\n",
       "<style scoped>\n",
       "    .dataframe tbody tr th:only-of-type {\n",
       "        vertical-align: middle;\n",
       "    }\n",
       "\n",
       "    .dataframe tbody tr th {\n",
       "        vertical-align: top;\n",
       "    }\n",
       "\n",
       "    .dataframe thead th {\n",
       "        text-align: right;\n",
       "    }\n",
       "</style>\n",
       "<table border=\"1\" class=\"dataframe\">\n",
       "  <thead>\n",
       "    <tr style=\"text-align: right;\">\n",
       "      <th></th>\n",
       "      <th>Year</th>\n",
       "      <th>Month</th>\n",
       "      <th>DayofMonth</th>\n",
       "      <th>DayOfWeek</th>\n",
       "      <th>CRSDepTime</th>\n",
       "      <th>CRSArrTime</th>\n",
       "      <th>Carrier</th>\n",
       "      <th>FlightNum</th>\n",
       "      <th>TailNum</th>\n",
       "      <th>CRSElapsedTime</th>\n",
       "      <th>...</th>\n",
       "      <th>TaxiIn</th>\n",
       "      <th>TaxiOut</th>\n",
       "      <th>Cancelled</th>\n",
       "      <th>Code</th>\n",
       "      <th>Diverted</th>\n",
       "      <th>CarrierDelay</th>\n",
       "      <th>WeatherDelay</th>\n",
       "      <th>NASDelay</th>\n",
       "      <th>SecurityDelay</th>\n",
       "      <th>LateAircraftDelay</th>\n",
       "    </tr>\n",
       "  </thead>\n",
       "  <tbody>\n",
       "    <tr>\n",
       "      <th>0</th>\n",
       "      <td>2004</td>\n",
       "      <td>1</td>\n",
       "      <td>26</td>\n",
       "      <td>1</td>\n",
       "      <td>630</td>\n",
       "      <td>915</td>\n",
       "      <td>UA</td>\n",
       "      <td>462</td>\n",
       "      <td>000000</td>\n",
       "      <td>105.0</td>\n",
       "      <td>...</td>\n",
       "      <td>0.0</td>\n",
       "      <td>0.0</td>\n",
       "      <td>1</td>\n",
       "      <td>Weather</td>\n",
       "      <td>0</td>\n",
       "      <td>0.0</td>\n",
       "      <td>0.0</td>\n",
       "      <td>0.0</td>\n",
       "      <td>0.0</td>\n",
       "      <td>0.0</td>\n",
       "    </tr>\n",
       "    <tr>\n",
       "      <th>1</th>\n",
       "      <td>2004</td>\n",
       "      <td>1</td>\n",
       "      <td>4</td>\n",
       "      <td>7</td>\n",
       "      <td>1505</td>\n",
       "      <td>1725</td>\n",
       "      <td>UA</td>\n",
       "      <td>463</td>\n",
       "      <td>000000</td>\n",
       "      <td>260.0</td>\n",
       "      <td>...</td>\n",
       "      <td>0.0</td>\n",
       "      <td>0.0</td>\n",
       "      <td>1</td>\n",
       "      <td>NAS</td>\n",
       "      <td>0</td>\n",
       "      <td>0.0</td>\n",
       "      <td>0.0</td>\n",
       "      <td>0.0</td>\n",
       "      <td>0.0</td>\n",
       "      <td>0.0</td>\n",
       "    </tr>\n",
       "    <tr>\n",
       "      <th>2</th>\n",
       "      <td>2004</td>\n",
       "      <td>1</td>\n",
       "      <td>6</td>\n",
       "      <td>2</td>\n",
       "      <td>1505</td>\n",
       "      <td>1725</td>\n",
       "      <td>UA</td>\n",
       "      <td>463</td>\n",
       "      <td>000000</td>\n",
       "      <td>260.0</td>\n",
       "      <td>...</td>\n",
       "      <td>0.0</td>\n",
       "      <td>0.0</td>\n",
       "      <td>1</td>\n",
       "      <td>Weather</td>\n",
       "      <td>0</td>\n",
       "      <td>0.0</td>\n",
       "      <td>0.0</td>\n",
       "      <td>0.0</td>\n",
       "      <td>0.0</td>\n",
       "      <td>0.0</td>\n",
       "    </tr>\n",
       "    <tr>\n",
       "      <th>3</th>\n",
       "      <td>2004</td>\n",
       "      <td>1</td>\n",
       "      <td>7</td>\n",
       "      <td>3</td>\n",
       "      <td>1510</td>\n",
       "      <td>1732</td>\n",
       "      <td>UA</td>\n",
       "      <td>463</td>\n",
       "      <td>000000</td>\n",
       "      <td>262.0</td>\n",
       "      <td>...</td>\n",
       "      <td>0.0</td>\n",
       "      <td>0.0</td>\n",
       "      <td>1</td>\n",
       "      <td>NAS</td>\n",
       "      <td>0</td>\n",
       "      <td>0.0</td>\n",
       "      <td>0.0</td>\n",
       "      <td>0.0</td>\n",
       "      <td>0.0</td>\n",
       "      <td>0.0</td>\n",
       "    </tr>\n",
       "    <tr>\n",
       "      <th>4</th>\n",
       "      <td>2004</td>\n",
       "      <td>1</td>\n",
       "      <td>8</td>\n",
       "      <td>4</td>\n",
       "      <td>1510</td>\n",
       "      <td>1732</td>\n",
       "      <td>UA</td>\n",
       "      <td>463</td>\n",
       "      <td>000000</td>\n",
       "      <td>262.0</td>\n",
       "      <td>...</td>\n",
       "      <td>0.0</td>\n",
       "      <td>0.0</td>\n",
       "      <td>1</td>\n",
       "      <td>Weather</td>\n",
       "      <td>0</td>\n",
       "      <td>0.0</td>\n",
       "      <td>0.0</td>\n",
       "      <td>0.0</td>\n",
       "      <td>0.0</td>\n",
       "      <td>0.0</td>\n",
       "    </tr>\n",
       "  </tbody>\n",
       "</table>\n",
       "<p>5 rows × 23 columns</p>\n",
       "</div>"
      ],
      "text/plain": [
       "   Year  Month  DayofMonth  DayOfWeek  CRSDepTime  CRSArrTime Carrier  \\\n",
       "0  2004      1          26          1         630         915      UA   \n",
       "1  2004      1           4          7        1505        1725      UA   \n",
       "2  2004      1           6          2        1505        1725      UA   \n",
       "3  2004      1           7          3        1510        1732      UA   \n",
       "4  2004      1           8          4        1510        1732      UA   \n",
       "\n",
       "   FlightNum TailNum  CRSElapsedTime        ...         TaxiIn TaxiOut  \\\n",
       "0        462  000000           105.0        ...            0.0     0.0   \n",
       "1        463  000000           260.0        ...            0.0     0.0   \n",
       "2        463  000000           260.0        ...            0.0     0.0   \n",
       "3        463  000000           262.0        ...            0.0     0.0   \n",
       "4        463  000000           262.0        ...            0.0     0.0   \n",
       "\n",
       "   Cancelled     Code  Diverted  CarrierDelay WeatherDelay  NASDelay  \\\n",
       "0          1  Weather         0           0.0          0.0       0.0   \n",
       "1          1      NAS         0           0.0          0.0       0.0   \n",
       "2          1  Weather         0           0.0          0.0       0.0   \n",
       "3          1      NAS         0           0.0          0.0       0.0   \n",
       "4          1  Weather         0           0.0          0.0       0.0   \n",
       "\n",
       "   SecurityDelay  LateAircraftDelay  \n",
       "0            0.0                0.0  \n",
       "1            0.0                0.0  \n",
       "2            0.0                0.0  \n",
       "3            0.0                0.0  \n",
       "4            0.0                0.0  \n",
       "\n",
       "[5 rows x 23 columns]"
      ]
     },
     "execution_count": 3,
     "metadata": {},
     "output_type": "execute_result"
    }
   ],
   "source": [
    "df_c.rename(columns={'CancellationCode':'Code', 'UniqueCarrier':'Carrier'}, inplace=True)\n",
    "df_c.head()"
   ]
  },
  {
   "cell_type": "markdown",
   "metadata": {
    "slideshow": {
     "slide_type": "notes"
    }
   },
   "source": [
    "> Note that the above cells have been set as \"Skip\"-type slides. That means\n",
    "that when the notebook is rendered as http slides, those cells won't show up."
   ]
  },
  {
   "cell_type": "markdown",
   "metadata": {
    "slideshow": {
     "slide_type": "slide"
    }
   },
   "source": [
    "## Flight length compared to Cancellations\n",
    "\n",
    "> This heatmap shows that the 1.9% of flights that were cancelled, or 9368 flights of the 500,000 of record averaged a shorter flight distance than the rest of the set.  This leads us to think there might be correlation to risk of cancelling the flight."
   ]
  },
  {
   "cell_type": "code",
   "execution_count": 4,
   "metadata": {
    "slideshow": {
     "slide_type": "subslide"
    }
   },
   "outputs": [
    {
     "data": {
      "image/png": "[encoded data removed]",
      "text/plain": [
       "<Figure size 841.68x595.44 with 2 Axes>"
      ]
     },
     "metadata": {
      "needs_background": "light"
     },
     "output_type": "display_data"
    }
   ],
   "source": [
    "plt.figure(figsize=[ 11.69, 8.27])\n",
    "plt.hist2d(data = df, x='Cancelled', y=\"Distance\")\n",
    "plt.xlabel('Cancellation Percentage')\n",
    "plt.ylabel('Flight Distance')\n",
    "plt.title('Cancellation Flight Length')\n",
    "plt.colorbar();"
   ]
  },
  {
   "cell_type": "markdown",
   "metadata": {
    "slideshow": {
     "slide_type": "slide"
    }
   },
   "source": [
    "## Cancellation Patterns\n",
    "\n",
    ">In the Cancelled Record Data set we dig deeper into what is the cause for the flight cancellations and when does it typically occur.  Looking at the graphs included here we can see that Wednesdays are the worst day to fly and that the trend through the the month is a Bimodal pattern.\n",
    "\n",
    ">Looks like I won't be flying on any Wednesdays that fall on the 4th, 13th, or 23rd of the month!"
   ]
  },
  {
   "cell_type": "code",
   "execution_count": 5,
   "metadata": {
    "slideshow": {
     "slide_type": "subslide"
    }
   },
   "outputs": [
    {
     "data": {
      "image/png": "[encoded data removed]",
      "text/plain": [
       "<Figure size 841.68x595.44 with 2 Axes>"
      ]
     },
     "metadata": {
      "needs_background": "light"
     },
     "output_type": "display_data"
    }
   ],
   "source": [
    "plt.figure(figsize=[ 11.69, 8.27])\n",
    "\n",
    "plt.subplot(1, 2, 1)\n",
    "sb.countplot(data = df_c, x=\"DayOfWeek\")\n",
    "plt.ylabel('Number of Cancellations')\n",
    "plt.xlabel('Day of the Week')\n",
    "plt.title('Cancellations by Week')\n",
    "plt.subplot(1,2,2)\n",
    "sb.countplot(data=df_c, x='DayofMonth')\n",
    "plt.xlabel('Day of the Month')\n",
    "plt.ylabel('Number of Cancellations')\n",
    "plt.title('Cancellations by Month')\n",
    "# get the plot axes information\n",
    "ax = plt.gca()\n",
    "# get xtick positions\n",
    "pos = ax.get_xticks().tolist()\n",
    "# get xtick labels\n",
    "labs = ax.get_xticklabels()\n",
    "# set the xticks for every second (original) xtick\n",
    "plt.xticks(pos[::2],labs[::2]);"
   ]
  },
  {
   "cell_type": "markdown",
   "metadata": {
    "slideshow": {
     "slide_type": "slide"
    }
   },
   "source": [
    "## Carrier and Cause Analysis\n",
    "> Now lets take a quick look at who the biggest culprit is over time and why they suck... sorry why the are the most likely to give you anxiety and unnecessary stress."
   ]
  },
  {
   "cell_type": "markdown",
   "metadata": {
    "slideshow": {
     "slide_type": "slide"
    }
   },
   "source": [
    "## Least Realiable\n",
    "\n",
    ">Turns out that the Carrier is at fault the most, and ontop of this WN Airlines crushes its competition with letting its customers down at roughly 40% more compared to the next closest loser, US Airlines.  If I were flying tomorrow I would trust XE Airlines to hold up their end of the bargain."
   ]
  },
  {
   "cell_type": "code",
   "execution_count": 6,
   "metadata": {
    "slideshow": {
     "slide_type": "subslide"
    }
   },
   "outputs": [
    {
     "data": {
      "text/plain": [
       "Text(0.5,1,'Total Cancellation by Airline')"
      ]
     },
     "execution_count": 6,
     "metadata": {},
     "output_type": "execute_result"
    },
    {
     "data": {
      "image/png": "[encoded data removed]",
      "text/plain": [
       "<Figure size 841.68x595.44 with 2 Axes>"
      ]
     },
     "metadata": {
      "needs_background": "light"
     },
     "output_type": "display_data"
    }
   ],
   "source": [
    "\n",
    "plt.figure(figsize=[ 11.69, 8.27])\n",
    "plt.subplot(1, 2, 1)\n",
    "sb.countplot(data = df_c, x = 'Year', hue = 'Code')\n",
    "plt.ylabel('Number of Cancellations')\n",
    "plt.title('Cancellation Cause by Year')\n",
    "plt.subplot(1,2,2)\n",
    "sb.countplot(data = df_c, x='Carrier')\n",
    "plt.ylabel('Number of Cancellations')\n",
    "plt.title('Total Cancellation by Airline')"
   ]
  },
  {
   "cell_type": "markdown",
   "metadata": {
    "slideshow": {
     "slide_type": "slide"
    }
   },
   "source": [
    "## Comparing Cancellation codes and Airlines over time\n",
    "\n",
    "To give WN Airlines the benefit of the doubt lets take a look at a FacetGrid to see how they compare individually over time.\n",
    "\n",
    "Surprisingly enough our data is skewed as it looks like XE did not exist (*assuming an average of at least one cancellation in a year based on other airlines) before 2007.  WN is still the worst but based on these results if I were going to fly today I would suggest flying UA Arilines as it looks like they have cleaned up their game, especially when it concerns Carrier cancellations that they have control over."
   ]
  },
  {
   "cell_type": "code",
   "execution_count": 7,
   "metadata": {
    "slideshow": {
     "slide_type": "subslide"
    }
   },
   "outputs": [
    {
     "data": {
      "text/plain": [
       "Text(0.5,0.98,'Cancellation occur by Code and Airline')"
      ]
     },
     "execution_count": 7,
     "metadata": {},
     "output_type": "execute_result"
    },
    {
     "data": {
      "image/png": "[encoded data removed]",
      "text/plain": [
       "<Figure size 841.68x595.44 with 12 Axes>"
      ]
     },
     "metadata": {
      "needs_background": "light"
     },
     "output_type": "display_data"
    }
   ],
   "source": [
    "## Comparing Cancellation codes and Airlines over time\n",
    "\n",
    "g = sb.FacetGrid(data = df_c, col = 'Code', row = 'Carrier', height = 8.27/4,  aspect = (11.69/3)/(8.27/4), margin_titles = True\n",
    ")\n",
    "g.map(plt.scatter, 'Year', 'DayofMonth').set_titles(\"{col_name} Code\")\n",
    "g.fig.subplots_adjust(top=0.9)\n",
    "g.fig.suptitle('Cancellation occur by Code and Airline', fontsize=20)"
   ]
  },
  {
   "cell_type": "markdown",
   "metadata": {
    "slideshow": {
     "slide_type": "notes"
    }
   },
   "source": [
    "> Once you're ready to finish your presentation, check your output by using\n",
    "nbconvert to export the notebook and set up a server for the slides. From the\n",
    "terminal or command line, use the following expression:\n",
    "> > `jupyter nbconvert <file_name>.ipynb --to slides --post serve --template output_toggle`\n",
    "\n",
    "> This should open a tab in your web browser where you can scroll through your\n",
    "presentation. Sub-slides can be accessed by pressing 'down' when viewing its parent\n",
    "slide. Make sure you remove all of the quote-formatted guide notes like this one\n",
    "before you finish your presentation!"
   ]
  },
  {
   "cell_type": "markdown",
   "metadata": {
    "slideshow": {
     "slide_type": "slide"
    }
   },
   "source": [
    "## Thanks for your interest!"
   ]
  }
 ],
 "metadata": {
  "celltoolbar": "Slideshow",
  "kernelspec": {
   "display_name": "Python 3",
   "language": "python",
   "name": "python3"
  },
  "language_info": {
   "codemirror_mode": {
    "name": "ipython",
    "version": 3
   },
   "file_extension": ".py",
   "mimetype": "text/x-python",
   "name": "python",
   "nbconvert_exporter": "python",
   "pygments_lexer": "ipython3",
   "version": "3.7.2"
  }
 },
 "nbformat": 4,
 "nbformat_minor": 2
}
